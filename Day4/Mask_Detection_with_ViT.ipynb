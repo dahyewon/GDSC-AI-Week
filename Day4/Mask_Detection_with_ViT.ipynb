{
  "nbformat": 4,
  "nbformat_minor": 0,
  "metadata": {
    "colab": {
      "provenance": [],
      "collapsed_sections": [
        "CuNhe9mcmmvp"
      ],
      "gpuType": "T4"
    },
    "kernelspec": {
      "name": "python3",
      "display_name": "Python 3"
    },
    "language_info": {
      "name": "python"
    },
    "accelerator": "GPU",
    "widgets": {
      "application/vnd.jupyter.widget-state+json": {
        "5e61f51337bb4b5995ddeabb45210872": {
          "model_module": "@jupyter-widgets/controls",
          "model_name": "HBoxModel",
          "model_module_version": "1.5.0",
          "state": {
            "_dom_classes": [],
            "_model_module": "@jupyter-widgets/controls",
            "_model_module_version": "1.5.0",
            "_model_name": "HBoxModel",
            "_view_count": null,
            "_view_module": "@jupyter-widgets/controls",
            "_view_module_version": "1.5.0",
            "_view_name": "HBoxView",
            "box_style": "",
            "children": [
              "IPY_MODEL_7071805530224fdb9aa617250571317f",
              "IPY_MODEL_75fc950001df4de5a6f381c652dde2f6",
              "IPY_MODEL_a88d5f6f510e49328c3e8f4f780a3d44"
            ],
            "layout": "IPY_MODEL_860a0513f915437b9e19324b688297da"
          }
        },
        "7071805530224fdb9aa617250571317f": {
          "model_module": "@jupyter-widgets/controls",
          "model_name": "HTMLModel",
          "model_module_version": "1.5.0",
          "state": {
            "_dom_classes": [],
            "_model_module": "@jupyter-widgets/controls",
            "_model_module_version": "1.5.0",
            "_model_name": "HTMLModel",
            "_view_count": null,
            "_view_module": "@jupyter-widgets/controls",
            "_view_module_version": "1.5.0",
            "_view_name": "HTMLView",
            "description": "",
            "description_tooltip": null,
            "layout": "IPY_MODEL_49b812b3a792447a9db95168b7eb4f69",
            "placeholder": "​",
            "style": "IPY_MODEL_ff4b5f910f36493bbc2c678cac9607e2",
            "value": "preprocessor_config.json: 100%"
          }
        },
        "75fc950001df4de5a6f381c652dde2f6": {
          "model_module": "@jupyter-widgets/controls",
          "model_name": "FloatProgressModel",
          "model_module_version": "1.5.0",
          "state": {
            "_dom_classes": [],
            "_model_module": "@jupyter-widgets/controls",
            "_model_module_version": "1.5.0",
            "_model_name": "FloatProgressModel",
            "_view_count": null,
            "_view_module": "@jupyter-widgets/controls",
            "_view_module_version": "1.5.0",
            "_view_name": "ProgressView",
            "bar_style": "success",
            "description": "",
            "description_tooltip": null,
            "layout": "IPY_MODEL_c61aa628cc644736bef6340a6f2b8a04",
            "max": 160,
            "min": 0,
            "orientation": "horizontal",
            "style": "IPY_MODEL_c1522529405246a5a4bb7068ac60b2b8",
            "value": 160
          }
        },
        "a88d5f6f510e49328c3e8f4f780a3d44": {
          "model_module": "@jupyter-widgets/controls",
          "model_name": "HTMLModel",
          "model_module_version": "1.5.0",
          "state": {
            "_dom_classes": [],
            "_model_module": "@jupyter-widgets/controls",
            "_model_module_version": "1.5.0",
            "_model_name": "HTMLModel",
            "_view_count": null,
            "_view_module": "@jupyter-widgets/controls",
            "_view_module_version": "1.5.0",
            "_view_name": "HTMLView",
            "description": "",
            "description_tooltip": null,
            "layout": "IPY_MODEL_f1b40d1d3ffb43b5b22bc2fd86228c8e",
            "placeholder": "​",
            "style": "IPY_MODEL_ceb7055255044dad8aae649e51f579d0",
            "value": " 160/160 [00:00&lt;00:00, 2.23kB/s]"
          }
        },
        "860a0513f915437b9e19324b688297da": {
          "model_module": "@jupyter-widgets/base",
          "model_name": "LayoutModel",
          "model_module_version": "1.2.0",
          "state": {
            "_model_module": "@jupyter-widgets/base",
            "_model_module_version": "1.2.0",
            "_model_name": "LayoutModel",
            "_view_count": null,
            "_view_module": "@jupyter-widgets/base",
            "_view_module_version": "1.2.0",
            "_view_name": "LayoutView",
            "align_content": null,
            "align_items": null,
            "align_self": null,
            "border": null,
            "bottom": null,
            "display": null,
            "flex": null,
            "flex_flow": null,
            "grid_area": null,
            "grid_auto_columns": null,
            "grid_auto_flow": null,
            "grid_auto_rows": null,
            "grid_column": null,
            "grid_gap": null,
            "grid_row": null,
            "grid_template_areas": null,
            "grid_template_columns": null,
            "grid_template_rows": null,
            "height": null,
            "justify_content": null,
            "justify_items": null,
            "left": null,
            "margin": null,
            "max_height": null,
            "max_width": null,
            "min_height": null,
            "min_width": null,
            "object_fit": null,
            "object_position": null,
            "order": null,
            "overflow": null,
            "overflow_x": null,
            "overflow_y": null,
            "padding": null,
            "right": null,
            "top": null,
            "visibility": null,
            "width": null
          }
        },
        "49b812b3a792447a9db95168b7eb4f69": {
          "model_module": "@jupyter-widgets/base",
          "model_name": "LayoutModel",
          "model_module_version": "1.2.0",
          "state": {
            "_model_module": "@jupyter-widgets/base",
            "_model_module_version": "1.2.0",
            "_model_name": "LayoutModel",
            "_view_count": null,
            "_view_module": "@jupyter-widgets/base",
            "_view_module_version": "1.2.0",
            "_view_name": "LayoutView",
            "align_content": null,
            "align_items": null,
            "align_self": null,
            "border": null,
            "bottom": null,
            "display": null,
            "flex": null,
            "flex_flow": null,
            "grid_area": null,
            "grid_auto_columns": null,
            "grid_auto_flow": null,
            "grid_auto_rows": null,
            "grid_column": null,
            "grid_gap": null,
            "grid_row": null,
            "grid_template_areas": null,
            "grid_template_columns": null,
            "grid_template_rows": null,
            "height": null,
            "justify_content": null,
            "justify_items": null,
            "left": null,
            "margin": null,
            "max_height": null,
            "max_width": null,
            "min_height": null,
            "min_width": null,
            "object_fit": null,
            "object_position": null,
            "order": null,
            "overflow": null,
            "overflow_x": null,
            "overflow_y": null,
            "padding": null,
            "right": null,
            "top": null,
            "visibility": null,
            "width": null
          }
        },
        "ff4b5f910f36493bbc2c678cac9607e2": {
          "model_module": "@jupyter-widgets/controls",
          "model_name": "DescriptionStyleModel",
          "model_module_version": "1.5.0",
          "state": {
            "_model_module": "@jupyter-widgets/controls",
            "_model_module_version": "1.5.0",
            "_model_name": "DescriptionStyleModel",
            "_view_count": null,
            "_view_module": "@jupyter-widgets/base",
            "_view_module_version": "1.2.0",
            "_view_name": "StyleView",
            "description_width": ""
          }
        },
        "c61aa628cc644736bef6340a6f2b8a04": {
          "model_module": "@jupyter-widgets/base",
          "model_name": "LayoutModel",
          "model_module_version": "1.2.0",
          "state": {
            "_model_module": "@jupyter-widgets/base",
            "_model_module_version": "1.2.0",
            "_model_name": "LayoutModel",
            "_view_count": null,
            "_view_module": "@jupyter-widgets/base",
            "_view_module_version": "1.2.0",
            "_view_name": "LayoutView",
            "align_content": null,
            "align_items": null,
            "align_self": null,
            "border": null,
            "bottom": null,
            "display": null,
            "flex": null,
            "flex_flow": null,
            "grid_area": null,
            "grid_auto_columns": null,
            "grid_auto_flow": null,
            "grid_auto_rows": null,
            "grid_column": null,
            "grid_gap": null,
            "grid_row": null,
            "grid_template_areas": null,
            "grid_template_columns": null,
            "grid_template_rows": null,
            "height": null,
            "justify_content": null,
            "justify_items": null,
            "left": null,
            "margin": null,
            "max_height": null,
            "max_width": null,
            "min_height": null,
            "min_width": null,
            "object_fit": null,
            "object_position": null,
            "order": null,
            "overflow": null,
            "overflow_x": null,
            "overflow_y": null,
            "padding": null,
            "right": null,
            "top": null,
            "visibility": null,
            "width": null
          }
        },
        "c1522529405246a5a4bb7068ac60b2b8": {
          "model_module": "@jupyter-widgets/controls",
          "model_name": "ProgressStyleModel",
          "model_module_version": "1.5.0",
          "state": {
            "_model_module": "@jupyter-widgets/controls",
            "_model_module_version": "1.5.0",
            "_model_name": "ProgressStyleModel",
            "_view_count": null,
            "_view_module": "@jupyter-widgets/base",
            "_view_module_version": "1.2.0",
            "_view_name": "StyleView",
            "bar_color": null,
            "description_width": ""
          }
        },
        "f1b40d1d3ffb43b5b22bc2fd86228c8e": {
          "model_module": "@jupyter-widgets/base",
          "model_name": "LayoutModel",
          "model_module_version": "1.2.0",
          "state": {
            "_model_module": "@jupyter-widgets/base",
            "_model_module_version": "1.2.0",
            "_model_name": "LayoutModel",
            "_view_count": null,
            "_view_module": "@jupyter-widgets/base",
            "_view_module_version": "1.2.0",
            "_view_name": "LayoutView",
            "align_content": null,
            "align_items": null,
            "align_self": null,
            "border": null,
            "bottom": null,
            "display": null,
            "flex": null,
            "flex_flow": null,
            "grid_area": null,
            "grid_auto_columns": null,
            "grid_auto_flow": null,
            "grid_auto_rows": null,
            "grid_column": null,
            "grid_gap": null,
            "grid_row": null,
            "grid_template_areas": null,
            "grid_template_columns": null,
            "grid_template_rows": null,
            "height": null,
            "justify_content": null,
            "justify_items": null,
            "left": null,
            "margin": null,
            "max_height": null,
            "max_width": null,
            "min_height": null,
            "min_width": null,
            "object_fit": null,
            "object_position": null,
            "order": null,
            "overflow": null,
            "overflow_x": null,
            "overflow_y": null,
            "padding": null,
            "right": null,
            "top": null,
            "visibility": null,
            "width": null
          }
        },
        "ceb7055255044dad8aae649e51f579d0": {
          "model_module": "@jupyter-widgets/controls",
          "model_name": "DescriptionStyleModel",
          "model_module_version": "1.5.0",
          "state": {
            "_model_module": "@jupyter-widgets/controls",
            "_model_module_version": "1.5.0",
            "_model_name": "DescriptionStyleModel",
            "_view_count": null,
            "_view_module": "@jupyter-widgets/base",
            "_view_module_version": "1.2.0",
            "_view_name": "StyleView",
            "description_width": ""
          }
        },
        "c17261faa6554ba293c00cf08b915ec6": {
          "model_module": "@jupyter-widgets/controls",
          "model_name": "HBoxModel",
          "model_module_version": "1.5.0",
          "state": {
            "_dom_classes": [],
            "_model_module": "@jupyter-widgets/controls",
            "_model_module_version": "1.5.0",
            "_model_name": "HBoxModel",
            "_view_count": null,
            "_view_module": "@jupyter-widgets/controls",
            "_view_module_version": "1.5.0",
            "_view_name": "HBoxView",
            "box_style": "",
            "children": [
              "IPY_MODEL_147d31e78bf44c4f9e97113b28bc979b",
              "IPY_MODEL_5fffd725518f4fe28f1b605304ba913d",
              "IPY_MODEL_3f19b13c78954e81bde7bcb963e1b167"
            ],
            "layout": "IPY_MODEL_9224dce12b8f42758eadd7c2c05dfdbf"
          }
        },
        "147d31e78bf44c4f9e97113b28bc979b": {
          "model_module": "@jupyter-widgets/controls",
          "model_name": "HTMLModel",
          "model_module_version": "1.5.0",
          "state": {
            "_dom_classes": [],
            "_model_module": "@jupyter-widgets/controls",
            "_model_module_version": "1.5.0",
            "_model_name": "HTMLModel",
            "_view_count": null,
            "_view_module": "@jupyter-widgets/controls",
            "_view_module_version": "1.5.0",
            "_view_name": "HTMLView",
            "description": "",
            "description_tooltip": null,
            "layout": "IPY_MODEL_4fb5c700245a4ccea31e6f9563bac93b",
            "placeholder": "​",
            "style": "IPY_MODEL_078e2a7bd69a48179076027074d0c8d2",
            "value": "config.json: 100%"
          }
        },
        "5fffd725518f4fe28f1b605304ba913d": {
          "model_module": "@jupyter-widgets/controls",
          "model_name": "FloatProgressModel",
          "model_module_version": "1.5.0",
          "state": {
            "_dom_classes": [],
            "_model_module": "@jupyter-widgets/controls",
            "_model_module_version": "1.5.0",
            "_model_name": "FloatProgressModel",
            "_view_count": null,
            "_view_module": "@jupyter-widgets/controls",
            "_view_module_version": "1.5.0",
            "_view_name": "ProgressView",
            "bar_style": "success",
            "description": "",
            "description_tooltip": null,
            "layout": "IPY_MODEL_17b6c857582544489bb3d9de603d98e0",
            "max": 502,
            "min": 0,
            "orientation": "horizontal",
            "style": "IPY_MODEL_f0164b88b49f48fdbe5b0cee5a654588",
            "value": 502
          }
        },
        "3f19b13c78954e81bde7bcb963e1b167": {
          "model_module": "@jupyter-widgets/controls",
          "model_name": "HTMLModel",
          "model_module_version": "1.5.0",
          "state": {
            "_dom_classes": [],
            "_model_module": "@jupyter-widgets/controls",
            "_model_module_version": "1.5.0",
            "_model_name": "HTMLModel",
            "_view_count": null,
            "_view_module": "@jupyter-widgets/controls",
            "_view_module_version": "1.5.0",
            "_view_name": "HTMLView",
            "description": "",
            "description_tooltip": null,
            "layout": "IPY_MODEL_8d6d6f2fe4544eb7a3810e059bf2b437",
            "placeholder": "​",
            "style": "IPY_MODEL_8e57e733cdd5486fafc3e2b387c8beb1",
            "value": " 502/502 [00:00&lt;00:00, 15.2kB/s]"
          }
        },
        "9224dce12b8f42758eadd7c2c05dfdbf": {
          "model_module": "@jupyter-widgets/base",
          "model_name": "LayoutModel",
          "model_module_version": "1.2.0",
          "state": {
            "_model_module": "@jupyter-widgets/base",
            "_model_module_version": "1.2.0",
            "_model_name": "LayoutModel",
            "_view_count": null,
            "_view_module": "@jupyter-widgets/base",
            "_view_module_version": "1.2.0",
            "_view_name": "LayoutView",
            "align_content": null,
            "align_items": null,
            "align_self": null,
            "border": null,
            "bottom": null,
            "display": null,
            "flex": null,
            "flex_flow": null,
            "grid_area": null,
            "grid_auto_columns": null,
            "grid_auto_flow": null,
            "grid_auto_rows": null,
            "grid_column": null,
            "grid_gap": null,
            "grid_row": null,
            "grid_template_areas": null,
            "grid_template_columns": null,
            "grid_template_rows": null,
            "height": null,
            "justify_content": null,
            "justify_items": null,
            "left": null,
            "margin": null,
            "max_height": null,
            "max_width": null,
            "min_height": null,
            "min_width": null,
            "object_fit": null,
            "object_position": null,
            "order": null,
            "overflow": null,
            "overflow_x": null,
            "overflow_y": null,
            "padding": null,
            "right": null,
            "top": null,
            "visibility": null,
            "width": null
          }
        },
        "4fb5c700245a4ccea31e6f9563bac93b": {
          "model_module": "@jupyter-widgets/base",
          "model_name": "LayoutModel",
          "model_module_version": "1.2.0",
          "state": {
            "_model_module": "@jupyter-widgets/base",
            "_model_module_version": "1.2.0",
            "_model_name": "LayoutModel",
            "_view_count": null,
            "_view_module": "@jupyter-widgets/base",
            "_view_module_version": "1.2.0",
            "_view_name": "LayoutView",
            "align_content": null,
            "align_items": null,
            "align_self": null,
            "border": null,
            "bottom": null,
            "display": null,
            "flex": null,
            "flex_flow": null,
            "grid_area": null,
            "grid_auto_columns": null,
            "grid_auto_flow": null,
            "grid_auto_rows": null,
            "grid_column": null,
            "grid_gap": null,
            "grid_row": null,
            "grid_template_areas": null,
            "grid_template_columns": null,
            "grid_template_rows": null,
            "height": null,
            "justify_content": null,
            "justify_items": null,
            "left": null,
            "margin": null,
            "max_height": null,
            "max_width": null,
            "min_height": null,
            "min_width": null,
            "object_fit": null,
            "object_position": null,
            "order": null,
            "overflow": null,
            "overflow_x": null,
            "overflow_y": null,
            "padding": null,
            "right": null,
            "top": null,
            "visibility": null,
            "width": null
          }
        },
        "078e2a7bd69a48179076027074d0c8d2": {
          "model_module": "@jupyter-widgets/controls",
          "model_name": "DescriptionStyleModel",
          "model_module_version": "1.5.0",
          "state": {
            "_model_module": "@jupyter-widgets/controls",
            "_model_module_version": "1.5.0",
            "_model_name": "DescriptionStyleModel",
            "_view_count": null,
            "_view_module": "@jupyter-widgets/base",
            "_view_module_version": "1.2.0",
            "_view_name": "StyleView",
            "description_width": ""
          }
        },
        "17b6c857582544489bb3d9de603d98e0": {
          "model_module": "@jupyter-widgets/base",
          "model_name": "LayoutModel",
          "model_module_version": "1.2.0",
          "state": {
            "_model_module": "@jupyter-widgets/base",
            "_model_module_version": "1.2.0",
            "_model_name": "LayoutModel",
            "_view_count": null,
            "_view_module": "@jupyter-widgets/base",
            "_view_module_version": "1.2.0",
            "_view_name": "LayoutView",
            "align_content": null,
            "align_items": null,
            "align_self": null,
            "border": null,
            "bottom": null,
            "display": null,
            "flex": null,
            "flex_flow": null,
            "grid_area": null,
            "grid_auto_columns": null,
            "grid_auto_flow": null,
            "grid_auto_rows": null,
            "grid_column": null,
            "grid_gap": null,
            "grid_row": null,
            "grid_template_areas": null,
            "grid_template_columns": null,
            "grid_template_rows": null,
            "height": null,
            "justify_content": null,
            "justify_items": null,
            "left": null,
            "margin": null,
            "max_height": null,
            "max_width": null,
            "min_height": null,
            "min_width": null,
            "object_fit": null,
            "object_position": null,
            "order": null,
            "overflow": null,
            "overflow_x": null,
            "overflow_y": null,
            "padding": null,
            "right": null,
            "top": null,
            "visibility": null,
            "width": null
          }
        },
        "f0164b88b49f48fdbe5b0cee5a654588": {
          "model_module": "@jupyter-widgets/controls",
          "model_name": "ProgressStyleModel",
          "model_module_version": "1.5.0",
          "state": {
            "_model_module": "@jupyter-widgets/controls",
            "_model_module_version": "1.5.0",
            "_model_name": "ProgressStyleModel",
            "_view_count": null,
            "_view_module": "@jupyter-widgets/base",
            "_view_module_version": "1.2.0",
            "_view_name": "StyleView",
            "bar_color": null,
            "description_width": ""
          }
        },
        "8d6d6f2fe4544eb7a3810e059bf2b437": {
          "model_module": "@jupyter-widgets/base",
          "model_name": "LayoutModel",
          "model_module_version": "1.2.0",
          "state": {
            "_model_module": "@jupyter-widgets/base",
            "_model_module_version": "1.2.0",
            "_model_name": "LayoutModel",
            "_view_count": null,
            "_view_module": "@jupyter-widgets/base",
            "_view_module_version": "1.2.0",
            "_view_name": "LayoutView",
            "align_content": null,
            "align_items": null,
            "align_self": null,
            "border": null,
            "bottom": null,
            "display": null,
            "flex": null,
            "flex_flow": null,
            "grid_area": null,
            "grid_auto_columns": null,
            "grid_auto_flow": null,
            "grid_auto_rows": null,
            "grid_column": null,
            "grid_gap": null,
            "grid_row": null,
            "grid_template_areas": null,
            "grid_template_columns": null,
            "grid_template_rows": null,
            "height": null,
            "justify_content": null,
            "justify_items": null,
            "left": null,
            "margin": null,
            "max_height": null,
            "max_width": null,
            "min_height": null,
            "min_width": null,
            "object_fit": null,
            "object_position": null,
            "order": null,
            "overflow": null,
            "overflow_x": null,
            "overflow_y": null,
            "padding": null,
            "right": null,
            "top": null,
            "visibility": null,
            "width": null
          }
        },
        "8e57e733cdd5486fafc3e2b387c8beb1": {
          "model_module": "@jupyter-widgets/controls",
          "model_name": "DescriptionStyleModel",
          "model_module_version": "1.5.0",
          "state": {
            "_model_module": "@jupyter-widgets/controls",
            "_model_module_version": "1.5.0",
            "_model_name": "DescriptionStyleModel",
            "_view_count": null,
            "_view_module": "@jupyter-widgets/base",
            "_view_module_version": "1.2.0",
            "_view_name": "StyleView",
            "description_width": ""
          }
        },
        "b44bc46e4efd449c972f3a3101154510": {
          "model_module": "@jupyter-widgets/controls",
          "model_name": "HBoxModel",
          "model_module_version": "1.5.0",
          "state": {
            "_dom_classes": [],
            "_model_module": "@jupyter-widgets/controls",
            "_model_module_version": "1.5.0",
            "_model_name": "HBoxModel",
            "_view_count": null,
            "_view_module": "@jupyter-widgets/controls",
            "_view_module_version": "1.5.0",
            "_view_name": "HBoxView",
            "box_style": "",
            "children": [
              "IPY_MODEL_79aadd244340456eb653faccc75fd20e",
              "IPY_MODEL_4e6e00b649064a499dd8dcc0e10741b5",
              "IPY_MODEL_b8ea355a1a0644f5a946639850767d68"
            ],
            "layout": "IPY_MODEL_52c462ff267e4573a3f1f79ea23f52c5"
          }
        },
        "79aadd244340456eb653faccc75fd20e": {
          "model_module": "@jupyter-widgets/controls",
          "model_name": "HTMLModel",
          "model_module_version": "1.5.0",
          "state": {
            "_dom_classes": [],
            "_model_module": "@jupyter-widgets/controls",
            "_model_module_version": "1.5.0",
            "_model_name": "HTMLModel",
            "_view_count": null,
            "_view_module": "@jupyter-widgets/controls",
            "_view_module_version": "1.5.0",
            "_view_name": "HTMLView",
            "description": "",
            "description_tooltip": null,
            "layout": "IPY_MODEL_725fc52ec77142c3988c635f2a361c73",
            "placeholder": "​",
            "style": "IPY_MODEL_219883d678bf46ca9b359b99471104e4",
            "value": "pytorch_model.bin: 100%"
          }
        },
        "4e6e00b649064a499dd8dcc0e10741b5": {
          "model_module": "@jupyter-widgets/controls",
          "model_name": "FloatProgressModel",
          "model_module_version": "1.5.0",
          "state": {
            "_dom_classes": [],
            "_model_module": "@jupyter-widgets/controls",
            "_model_module_version": "1.5.0",
            "_model_name": "FloatProgressModel",
            "_view_count": null,
            "_view_module": "@jupyter-widgets/controls",
            "_view_module_version": "1.5.0",
            "_view_name": "ProgressView",
            "bar_style": "success",
            "description": "",
            "description_tooltip": null,
            "layout": "IPY_MODEL_553f7f1133ea4fb9bf2edeed02c3a983",
            "max": 345636463,
            "min": 0,
            "orientation": "horizontal",
            "style": "IPY_MODEL_f9a3e8b3ed9e4095b3cae30e89b0e011",
            "value": 345636463
          }
        },
        "b8ea355a1a0644f5a946639850767d68": {
          "model_module": "@jupyter-widgets/controls",
          "model_name": "HTMLModel",
          "model_module_version": "1.5.0",
          "state": {
            "_dom_classes": [],
            "_model_module": "@jupyter-widgets/controls",
            "_model_module_version": "1.5.0",
            "_model_name": "HTMLModel",
            "_view_count": null,
            "_view_module": "@jupyter-widgets/controls",
            "_view_module_version": "1.5.0",
            "_view_name": "HTMLView",
            "description": "",
            "description_tooltip": null,
            "layout": "IPY_MODEL_66ec4590fed84307bfd7b32ac58c9d89",
            "placeholder": "​",
            "style": "IPY_MODEL_f76d768256cf4af7827982179b34b7f2",
            "value": " 346M/346M [00:02&lt;00:00, 132MB/s]"
          }
        },
        "52c462ff267e4573a3f1f79ea23f52c5": {
          "model_module": "@jupyter-widgets/base",
          "model_name": "LayoutModel",
          "model_module_version": "1.2.0",
          "state": {
            "_model_module": "@jupyter-widgets/base",
            "_model_module_version": "1.2.0",
            "_model_name": "LayoutModel",
            "_view_count": null,
            "_view_module": "@jupyter-widgets/base",
            "_view_module_version": "1.2.0",
            "_view_name": "LayoutView",
            "align_content": null,
            "align_items": null,
            "align_self": null,
            "border": null,
            "bottom": null,
            "display": null,
            "flex": null,
            "flex_flow": null,
            "grid_area": null,
            "grid_auto_columns": null,
            "grid_auto_flow": null,
            "grid_auto_rows": null,
            "grid_column": null,
            "grid_gap": null,
            "grid_row": null,
            "grid_template_areas": null,
            "grid_template_columns": null,
            "grid_template_rows": null,
            "height": null,
            "justify_content": null,
            "justify_items": null,
            "left": null,
            "margin": null,
            "max_height": null,
            "max_width": null,
            "min_height": null,
            "min_width": null,
            "object_fit": null,
            "object_position": null,
            "order": null,
            "overflow": null,
            "overflow_x": null,
            "overflow_y": null,
            "padding": null,
            "right": null,
            "top": null,
            "visibility": null,
            "width": null
          }
        },
        "725fc52ec77142c3988c635f2a361c73": {
          "model_module": "@jupyter-widgets/base",
          "model_name": "LayoutModel",
          "model_module_version": "1.2.0",
          "state": {
            "_model_module": "@jupyter-widgets/base",
            "_model_module_version": "1.2.0",
            "_model_name": "LayoutModel",
            "_view_count": null,
            "_view_module": "@jupyter-widgets/base",
            "_view_module_version": "1.2.0",
            "_view_name": "LayoutView",
            "align_content": null,
            "align_items": null,
            "align_self": null,
            "border": null,
            "bottom": null,
            "display": null,
            "flex": null,
            "flex_flow": null,
            "grid_area": null,
            "grid_auto_columns": null,
            "grid_auto_flow": null,
            "grid_auto_rows": null,
            "grid_column": null,
            "grid_gap": null,
            "grid_row": null,
            "grid_template_areas": null,
            "grid_template_columns": null,
            "grid_template_rows": null,
            "height": null,
            "justify_content": null,
            "justify_items": null,
            "left": null,
            "margin": null,
            "max_height": null,
            "max_width": null,
            "min_height": null,
            "min_width": null,
            "object_fit": null,
            "object_position": null,
            "order": null,
            "overflow": null,
            "overflow_x": null,
            "overflow_y": null,
            "padding": null,
            "right": null,
            "top": null,
            "visibility": null,
            "width": null
          }
        },
        "219883d678bf46ca9b359b99471104e4": {
          "model_module": "@jupyter-widgets/controls",
          "model_name": "DescriptionStyleModel",
          "model_module_version": "1.5.0",
          "state": {
            "_model_module": "@jupyter-widgets/controls",
            "_model_module_version": "1.5.0",
            "_model_name": "DescriptionStyleModel",
            "_view_count": null,
            "_view_module": "@jupyter-widgets/base",
            "_view_module_version": "1.2.0",
            "_view_name": "StyleView",
            "description_width": ""
          }
        },
        "553f7f1133ea4fb9bf2edeed02c3a983": {
          "model_module": "@jupyter-widgets/base",
          "model_name": "LayoutModel",
          "model_module_version": "1.2.0",
          "state": {
            "_model_module": "@jupyter-widgets/base",
            "_model_module_version": "1.2.0",
            "_model_name": "LayoutModel",
            "_view_count": null,
            "_view_module": "@jupyter-widgets/base",
            "_view_module_version": "1.2.0",
            "_view_name": "LayoutView",
            "align_content": null,
            "align_items": null,
            "align_self": null,
            "border": null,
            "bottom": null,
            "display": null,
            "flex": null,
            "flex_flow": null,
            "grid_area": null,
            "grid_auto_columns": null,
            "grid_auto_flow": null,
            "grid_auto_rows": null,
            "grid_column": null,
            "grid_gap": null,
            "grid_row": null,
            "grid_template_areas": null,
            "grid_template_columns": null,
            "grid_template_rows": null,
            "height": null,
            "justify_content": null,
            "justify_items": null,
            "left": null,
            "margin": null,
            "max_height": null,
            "max_width": null,
            "min_height": null,
            "min_width": null,
            "object_fit": null,
            "object_position": null,
            "order": null,
            "overflow": null,
            "overflow_x": null,
            "overflow_y": null,
            "padding": null,
            "right": null,
            "top": null,
            "visibility": null,
            "width": null
          }
        },
        "f9a3e8b3ed9e4095b3cae30e89b0e011": {
          "model_module": "@jupyter-widgets/controls",
          "model_name": "ProgressStyleModel",
          "model_module_version": "1.5.0",
          "state": {
            "_model_module": "@jupyter-widgets/controls",
            "_model_module_version": "1.5.0",
            "_model_name": "ProgressStyleModel",
            "_view_count": null,
            "_view_module": "@jupyter-widgets/base",
            "_view_module_version": "1.2.0",
            "_view_name": "StyleView",
            "bar_color": null,
            "description_width": ""
          }
        },
        "66ec4590fed84307bfd7b32ac58c9d89": {
          "model_module": "@jupyter-widgets/base",
          "model_name": "LayoutModel",
          "model_module_version": "1.2.0",
          "state": {
            "_model_module": "@jupyter-widgets/base",
            "_model_module_version": "1.2.0",
            "_model_name": "LayoutModel",
            "_view_count": null,
            "_view_module": "@jupyter-widgets/base",
            "_view_module_version": "1.2.0",
            "_view_name": "LayoutView",
            "align_content": null,
            "align_items": null,
            "align_self": null,
            "border": null,
            "bottom": null,
            "display": null,
            "flex": null,
            "flex_flow": null,
            "grid_area": null,
            "grid_auto_columns": null,
            "grid_auto_flow": null,
            "grid_auto_rows": null,
            "grid_column": null,
            "grid_gap": null,
            "grid_row": null,
            "grid_template_areas": null,
            "grid_template_columns": null,
            "grid_template_rows": null,
            "height": null,
            "justify_content": null,
            "justify_items": null,
            "left": null,
            "margin": null,
            "max_height": null,
            "max_width": null,
            "min_height": null,
            "min_width": null,
            "object_fit": null,
            "object_position": null,
            "order": null,
            "overflow": null,
            "overflow_x": null,
            "overflow_y": null,
            "padding": null,
            "right": null,
            "top": null,
            "visibility": null,
            "width": null
          }
        },
        "f76d768256cf4af7827982179b34b7f2": {
          "model_module": "@jupyter-widgets/controls",
          "model_name": "DescriptionStyleModel",
          "model_module_version": "1.5.0",
          "state": {
            "_model_module": "@jupyter-widgets/controls",
            "_model_module_version": "1.5.0",
            "_model_name": "DescriptionStyleModel",
            "_view_count": null,
            "_view_module": "@jupyter-widgets/base",
            "_view_module_version": "1.2.0",
            "_view_name": "StyleView",
            "description_width": ""
          }
        }
      }
    }
  },
  "cells": [
    {
      "cell_type": "code",
      "source": [
        "!pip install -U accelerate\n",
        "!pip install -U transformers"
      ],
      "metadata": {
        "id": "kFeOGmtgQEEW",
        "colab": {
          "base_uri": "https://localhost:8080/"
        },
        "outputId": "718631ec-a5ac-4e30-a97b-e3e67d7f522a"
      },
      "execution_count": null,
      "outputs": [
        {
          "output_type": "stream",
          "name": "stdout",
          "text": [
            "Requirement already satisfied: transformers in /usr/local/lib/python3.10/dist-packages (4.36.2)\n",
            "Requirement already satisfied: filelock in /usr/local/lib/python3.10/dist-packages (from transformers) (3.13.1)\n",
            "Requirement already satisfied: huggingface-hub<1.0,>=0.19.3 in /usr/local/lib/python3.10/dist-packages (from transformers) (0.20.2)\n",
            "Requirement already satisfied: numpy>=1.17 in /usr/local/lib/python3.10/dist-packages (from transformers) (1.23.5)\n",
            "Requirement already satisfied: packaging>=20.0 in /usr/local/lib/python3.10/dist-packages (from transformers) (23.2)\n",
            "Requirement already satisfied: pyyaml>=5.1 in /usr/local/lib/python3.10/dist-packages (from transformers) (6.0.1)\n",
            "Requirement already satisfied: regex!=2019.12.17 in /usr/local/lib/python3.10/dist-packages (from transformers) (2023.6.3)\n",
            "Requirement already satisfied: requests in /usr/local/lib/python3.10/dist-packages (from transformers) (2.31.0)\n",
            "Requirement already satisfied: tokenizers<0.19,>=0.14 in /usr/local/lib/python3.10/dist-packages (from transformers) (0.15.0)\n",
            "Requirement already satisfied: safetensors>=0.3.1 in /usr/local/lib/python3.10/dist-packages (from transformers) (0.4.1)\n",
            "Requirement already satisfied: tqdm>=4.27 in /usr/local/lib/python3.10/dist-packages (from transformers) (4.66.1)\n",
            "Requirement already satisfied: fsspec>=2023.5.0 in /usr/local/lib/python3.10/dist-packages (from huggingface-hub<1.0,>=0.19.3->transformers) (2023.6.0)\n",
            "Requirement already satisfied: typing-extensions>=3.7.4.3 in /usr/local/lib/python3.10/dist-packages (from huggingface-hub<1.0,>=0.19.3->transformers) (4.5.0)\n",
            "Requirement already satisfied: charset-normalizer<4,>=2 in /usr/local/lib/python3.10/dist-packages (from requests->transformers) (3.3.2)\n",
            "Requirement already satisfied: idna<4,>=2.5 in /usr/local/lib/python3.10/dist-packages (from requests->transformers) (3.6)\n",
            "Requirement already satisfied: urllib3<3,>=1.21.1 in /usr/local/lib/python3.10/dist-packages (from requests->transformers) (2.0.7)\n",
            "Requirement already satisfied: certifi>=2017.4.17 in /usr/local/lib/python3.10/dist-packages (from requests->transformers) (2023.11.17)\n"
          ]
        }
      ]
    },
    {
      "cell_type": "markdown",
      "source": [
        "## Kaggle 데이터 불러오기\n",
        "[출처](https://www.kaggle.com/code/erfansobhaei/face-mask-detection-with-resnet34)"
      ],
      "metadata": {
        "id": "E3qg6r-iJt8F"
      }
    },
    {
      "cell_type": "code",
      "execution_count": null,
      "metadata": {
        "id": "vIHbMWssE4WQ"
      },
      "outputs": [],
      "source": [
        "import numpy as np\n",
        "import torch\n",
        "from torch import nn\n",
        "from torch.utils.data import DataLoader, Dataset\n",
        "from torchvision.datasets import ImageFolder\n",
        "from torchvision import datasets\n",
        "from torchvision.transforms import ToTensor, Lambda\n",
        "from torchvision.transforms.functional import to_tensor\n",
        "from torch.utils.data import random_split\n",
        "\n",
        "\n",
        "import matplotlib.pyplot as plt\n",
        "\n",
        "from tqdm.notebook import tqdm\n",
        "\n",
        "import warnings"
      ]
    },
    {
      "cell_type": "code",
      "source": [
        "%cd \"/content/drive/MyDrive/PyTorch/data\""
      ],
      "metadata": {
        "colab": {
          "base_uri": "https://localhost:8080/"
        },
        "id": "PdDJQ14bJrsY",
        "outputId": "4783c585-a391-4b90-95e7-eb09e8a8058d"
      },
      "execution_count": null,
      "outputs": [
        {
          "output_type": "stream",
          "name": "stdout",
          "text": [
            "/content/drive/MyDrive/PyTorch/data\n"
          ]
        }
      ]
    },
    {
      "cell_type": "code",
      "source": [
        "data_dir = \".\"\n",
        "dataset = ImageFolder(\".\", transform=ToTensor())\n",
        "print(len(dataset))\n",
        "print(dataset.classes)"
      ],
      "metadata": {
        "colab": {
          "base_uri": "https://localhost:8080/"
        },
        "id": "Apc_cj7EKLUO",
        "outputId": "bce8de18-684e-48d8-dfb4-df87e5455689"
      },
      "execution_count": null,
      "outputs": [
        {
          "output_type": "stream",
          "name": "stdout",
          "text": [
            "7553\n",
            "['with_mask', 'without_mask']\n"
          ]
        }
      ]
    },
    {
      "cell_type": "code",
      "source": [
        "import torch\n",
        "import matplotlib.pyplot as plt\n",
        "%matplotlib inline\n",
        "\n",
        "def show_example(img, label):\n",
        "    print('Label: ', dataset.classes[label], \"(\"+str(label)+\")\")\n",
        "    plt.imshow(img.permute(1, 2, 0))\n",
        "\n",
        "show_example(*dataset[800])"
      ],
      "metadata": {
        "id": "HlI_qoG4K3B6",
        "colab": {
          "base_uri": "https://localhost:8080/",
          "height": 452
        },
        "outputId": "379248e1-00ef-4327-e886-7407038be205"
      },
      "execution_count": null,
      "outputs": [
        {
          "output_type": "stream",
          "name": "stdout",
          "text": [
            "Label:  with_mask (0)\n"
          ]
        },
        {
          "output_type": "display_data",
          "data": {
            "text/plain": [
              "<Figure size 640x480 with 1 Axes>"
            ],
            "image/png": "[encoded data removed]"
          },
          "metadata": {}
        }
      ]
    },
    {
      "cell_type": "code",
      "source": [
        "import torchvision.transforms as tt\n",
        "image_size = (224, 224)\n",
        "\n",
        "stats = {\n",
        "    'mean': [0.485, 0.456, 0.406],\n",
        "    'std': [0.229, 0.224, 0.225]\n",
        "}\n",
        "dataset = ImageFolder(data_dir, tt.Compose([\n",
        "    tt.Resize(image_size),\n",
        "    tt.ToTensor(),\n",
        "    tt.Normalize(**stats)\n",
        "]))"
      ],
      "metadata": {
        "id": "Yo-i1-W2K6iX"
      },
      "execution_count": null,
      "outputs": []
    },
    {
      "cell_type": "code",
      "source": [
        "val_percentage = 0.1\n",
        "val_size = int(val_percentage * len(dataset))\n",
        "\n",
        "train_dataset, test_dataset = random_split(dataset, [len(dataset) - val_size, val_size])"
      ],
      "metadata": {
        "id": "HtePeLqHK-8B"
      },
      "execution_count": null,
      "outputs": []
    },
    {
      "cell_type": "markdown",
      "source": [
        "## ViT"
      ],
      "metadata": {
        "id": "C6oNQgbuM1sW"
      }
    },
    {
      "cell_type": "code",
      "source": [
        "from itertools import chain # chain 함수는 여러 개의 iterable을 하나의 iterable로 결합. 리스트를 합치는 데 사용\n",
        "from collections import defaultdict # defaultdict은 기본값을 가진 dict 생성. 클래스 레이블에 해당하는 이미지의 인덱스 저장\n",
        "from torch.utils.data import Subset"
      ],
      "metadata": {
        "id": "SIXmec9OM1BK"
      },
      "execution_count": null,
      "outputs": []
    },
    {
      "cell_type": "code",
      "source": [
        "def subset_sampler(dataset, classes, max_len): # subset 만들어 반환\n",
        "  target_idx = defaultdict(list)\n",
        "  for idx, label in enumerate(dataset.targets):\n",
        "    target_idx[int(label)].append(idx)\n",
        "\n",
        "  indices = list(\n",
        "      chain.from_iterable(\n",
        "          [target_idx[idx][:max_len] for idx in range(len(classes))]\n",
        "      )\n",
        "  )\n",
        "  return Subset(dataset, indices)"
      ],
      "metadata": {
        "id": "d9L5b3LyLm63"
      },
      "execution_count": null,
      "outputs": []
    },
    {
      "cell_type": "code",
      "source": [
        "classes = train_dataset.dataset.classes\n",
        "class_to_idx = train_dataset.dataset.class_to_idx\n",
        "print(classes)\n",
        "print(class_to_idx)\n",
        "\n",
        "subset_train_dataset = subset_sampler(\n",
        "    dataset = train_dataset.dataset, classes = train_dataset.dataset.classes, max_len = 1000\n",
        ")\n",
        "subset_test_dataset = subset_sampler(\n",
        "    dataset = test_dataset.dataset, classes = test_dataset.dataset.classes, max_len = 100\n",
        ")\n",
        "\n",
        "print(f\"Training Data Size : {len(subset_train_dataset)}\")\n",
        "print(f\"Testing Data Size : {len(subset_test_dataset)}\")\n",
        "print(train_dataset[0])"
      ],
      "metadata": {
        "id": "Qf0iIQtcM6JF",
        "colab": {
          "base_uri": "https://localhost:8080/"
        },
        "outputId": "5a14dc9e-1f99-4e21-b513-503aa6bf9138"
      },
      "execution_count": null,
      "outputs": [
        {
          "output_type": "stream",
          "name": "stdout",
          "text": [
            "['with_mask', 'without_mask']\n",
            "{'with_mask': 0, 'without_mask': 1}\n",
            "Training Data Size : 2000\n",
            "Testing Data Size : 200\n",
            "(tensor([[[ 1.5982,  1.5982,  1.5982,  ...,  1.5982,  1.5982,  1.5982],\n",
            "         [ 1.5982,  1.5982,  1.5982,  ...,  1.5982,  1.5982,  1.5982],\n",
            "         [ 1.5982,  1.5982,  1.5982,  ...,  1.5982,  1.5982,  1.5982],\n",
            "         ...,\n",
            "         [ 1.0502,  1.0331,  1.0331,  ..., -1.2103, -0.7137,  0.1939],\n",
            "         [ 0.9988,  0.9988,  0.9817,  ..., -0.6623, -0.0287,  0.3309],\n",
            "         [ 1.0331,  1.1187,  0.9132,  ..., -0.0116,  0.1426,  0.2111]],\n",
            "\n",
            "        [[ 1.5357,  1.5357,  1.5357,  ...,  1.5357,  1.5357,  1.5357],\n",
            "         [ 1.5357,  1.5357,  1.5357,  ...,  1.5357,  1.5357,  1.5357],\n",
            "         [ 1.5357,  1.5357,  1.5357,  ...,  1.5357,  1.5357,  1.5357],\n",
            "         ...,\n",
            "         [ 0.8704,  0.8529,  0.8529,  ..., -1.2304, -0.7577,  0.0476],\n",
            "         [ 0.8179,  0.8179,  0.8004,  ..., -0.7227, -0.1099,  0.1702],\n",
            "         [ 0.8880,  0.9755,  0.7479,  ..., -0.1800, -0.0574, -0.0224]],\n",
            "\n",
            "        [[ 1.4200,  1.4200,  1.4200,  ...,  1.4200,  1.4200,  1.4200],\n",
            "         [ 1.4200,  1.4200,  1.4200,  ...,  1.4200,  1.4200,  1.4200],\n",
            "         [ 1.4200,  1.4200,  1.4200,  ...,  1.4200,  1.4200,  1.4200],\n",
            "         ...,\n",
            "         [ 0.7925,  0.7751,  0.7751,  ..., -1.1073, -0.6890,  0.0431],\n",
            "         [ 0.7402,  0.7402,  0.7228,  ..., -0.6541, -0.0964,  0.1128],\n",
            "         [ 0.7925,  0.8797,  0.6182,  ..., -0.2358, -0.1312, -0.1312]]]), 1)\n"
          ]
        }
      ]
    },
    {
      "cell_type": "code",
      "source": [
        "import torch\n",
        "from torchvision import transforms\n",
        "from transformers import AutoImageProcessor"
      ],
      "metadata": {
        "id": "KxtLFg5xO4rm"
      },
      "execution_count": null,
      "outputs": []
    },
    {
      "cell_type": "code",
      "source": [
        "image_processor = AutoImageProcessor.from_pretrained(\n",
        "    pretrained_model_name_or_path = \"google/vit-base-patch16-224-in21k\"\n",
        ")\n",
        "\n",
        "transform = transforms.Compose([\n",
        "    transforms.ToTensor(),\n",
        "    transforms.Resize(\n",
        "        size=(\n",
        "            image_processor.size[\"height\"],\n",
        "            image_processor.size[\"width\"]\n",
        "        )\n",
        "    ),\n",
        "    transforms.Lambda(\n",
        "        lambda x : torch.cat([x, x, x], 0)\n",
        "    ),\n",
        "    transforms.Normalize(\n",
        "        mean = image_processor.image_mean,\n",
        "        std = image_processor.image_std\n",
        "    )\n",
        "])\n",
        "\n",
        "print(f\"size : {image_processor.size}\")\n",
        "print(f\"mean : {image_processor.image_mean}\")\n",
        "print(f\"std : {image_processor.image_std}\")"
      ],
      "metadata": {
        "id": "zDj6J-eAO5JT",
        "colab": {
          "base_uri": "https://localhost:8080/",
          "height": 244,
          "referenced_widgets": [
            "5e61f51337bb4b5995ddeabb45210872",
            "7071805530224fdb9aa617250571317f",
            "75fc950001df4de5a6f381c652dde2f6",
            "a88d5f6f510e49328c3e8f4f780a3d44",
            "860a0513f915437b9e19324b688297da",
            "49b812b3a792447a9db95168b7eb4f69",
            "ff4b5f910f36493bbc2c678cac9607e2",
            "c61aa628cc644736bef6340a6f2b8a04",
            "c1522529405246a5a4bb7068ac60b2b8",
            "f1b40d1d3ffb43b5b22bc2fd86228c8e",
            "ceb7055255044dad8aae649e51f579d0",
            "c17261faa6554ba293c00cf08b915ec6",
            "147d31e78bf44c4f9e97113b28bc979b",
            "5fffd725518f4fe28f1b605304ba913d",
            "3f19b13c78954e81bde7bcb963e1b167",
            "9224dce12b8f42758eadd7c2c05dfdbf",
            "4fb5c700245a4ccea31e6f9563bac93b",
            "078e2a7bd69a48179076027074d0c8d2",
            "17b6c857582544489bb3d9de603d98e0",
            "f0164b88b49f48fdbe5b0cee5a654588",
            "8d6d6f2fe4544eb7a3810e059bf2b437",
            "8e57e733cdd5486fafc3e2b387c8beb1"
          ]
        },
        "outputId": "a26ae40c-8951-44a4-c8fc-d995374f23da"
      },
      "execution_count": null,
      "outputs": [
        {
          "output_type": "stream",
          "name": "stderr",
          "text": [
            "/usr/local/lib/python3.10/dist-packages/huggingface_hub/utils/_token.py:88: UserWarning: \n",
            "The secret `HF_TOKEN` does not exist in your Colab secrets.\n",
            "To authenticate with the Hugging Face Hub, create a token in your settings tab (https://huggingface.co/settings/tokens), set it as secret in your Google Colab and restart your session.\n",
            "You will be able to reuse this secret in all of your notebooks.\n",
            "Please note that authentication is recommended but still optional to access public models or datasets.\n",
            "  warnings.warn(\n"
          ]
        },
        {
          "output_type": "display_data",
          "data": {
            "text/plain": [
              "preprocessor_config.json:   0%|          | 0.00/160 [00:00<?, ?B/s]"
            ],
            "application/vnd.jupyter.widget-view+json": {
              "version_major": 2,
              "version_minor": 0,
              "model_id": "5e61f51337bb4b5995ddeabb45210872"
            }
          },
          "metadata": {}
        },
        {
          "output_type": "display_data",
          "data": {
            "text/plain": [
              "config.json:   0%|          | 0.00/502 [00:00<?, ?B/s]"
            ],
            "application/vnd.jupyter.widget-view+json": {
              "version_major": 2,
              "version_minor": 0,
              "model_id": "c17261faa6554ba293c00cf08b915ec6"
            }
          },
          "metadata": {}
        },
        {
          "output_type": "stream",
          "name": "stdout",
          "text": [
            "size : {'height': 224, 'width': 224}\n",
            "mean : [0.5, 0.5, 0.5]\n",
            "std : [0.5, 0.5, 0.5]\n"
          ]
        }
      ]
    },
    {
      "cell_type": "code",
      "source": [
        "def collator(data, transform): # dataset으로부터 미니배치 만들 때 데이터의 형태를 정의하는 역할.\n",
        "#입력 데이터를 모델에 맞게 변환하거나 전처리하는 과정 담당\n",
        "  images, labels = zip(*data)\n",
        "  # Check if the images are already tensors\n",
        "  if isinstance(images[0], torch.Tensor):\n",
        "    pixel_values = torch.stack(images)\n",
        "  else:\n",
        "    pixel_values = torch.stack([transform(image) for image in images])\n",
        "\n",
        "  labels = torch.tensor([label for label in labels])\n",
        "  return {\"pixel_values\" : pixel_values, \"labels\" : labels}"
      ],
      "metadata": {
        "id": "TGg6gf9yPAME"
      },
      "execution_count": null,
      "outputs": []
    },
    {
      "cell_type": "code",
      "source": [
        "batch_size = 64\n",
        "\n",
        "train_dataloader = DataLoader(\n",
        "    subset_train_dataset,\n",
        "    batch_size=batch_size,\n",
        "    shuffle=True,\n",
        "    collate_fn = lambda x : collator(x, transform),\n",
        "    drop_last=True\n",
        ")\n",
        "valid_dataloader = DataLoader(\n",
        "    subset_test_dataset,\n",
        "    batch_size=batch_size,\n",
        "    collate_fn = lambda x : collator(x, transform),\n",
        "    drop_last = True\n",
        ")\n",
        "batch = next(iter(train_dataloader))\n",
        "for key, value in batch.items():\n",
        "  print(f\"{key} : {value.shape}\")"
      ],
      "metadata": {
        "id": "5IlO-mF3LkmX"
      },
      "execution_count": null,
      "outputs": []
    },
    {
      "cell_type": "code",
      "source": [
        "from transformers import ViTForImageClassification"
      ],
      "metadata": {
        "id": "ThjFxkMiPkIv"
      },
      "execution_count": null,
      "outputs": []
    },
    {
      "cell_type": "code",
      "source": [
        "model = ViTForImageClassification.from_pretrained(\n",
        "    pretrained_model_name_or_path = \"google/vit-base-patch16-224-in21k\",\n",
        "    num_labels = len(classes),\n",
        "    id2label = {idx : label for label, idx in class_to_idx.items()},\n",
        "    label2id = class_to_idx,\n",
        "    ignore_mismatched_sizes = True\n",
        ")\n",
        "\n",
        "print(model.classifier)"
      ],
      "metadata": {
        "id": "OihgmNEOPkyq",
        "colab": {
          "base_uri": "https://localhost:8080/",
          "height": 103,
          "referenced_widgets": [
            "b44bc46e4efd449c972f3a3101154510",
            "79aadd244340456eb653faccc75fd20e",
            "4e6e00b649064a499dd8dcc0e10741b5",
            "b8ea355a1a0644f5a946639850767d68",
            "52c462ff267e4573a3f1f79ea23f52c5",
            "725fc52ec77142c3988c635f2a361c73",
            "219883d678bf46ca9b359b99471104e4",
            "553f7f1133ea4fb9bf2edeed02c3a983",
            "f9a3e8b3ed9e4095b3cae30e89b0e011",
            "66ec4590fed84307bfd7b32ac58c9d89",
            "f76d768256cf4af7827982179b34b7f2"
          ]
        },
        "outputId": "511a15ae-70ae-4325-c12d-a9a9af3dfa3b"
      },
      "execution_count": null,
      "outputs": [
        {
          "output_type": "display_data",
          "data": {
            "text/plain": [
              "pytorch_model.bin:   0%|          | 0.00/346M [00:00<?, ?B/s]"
            ],
            "application/vnd.jupyter.widget-view+json": {
              "version_major": 2,
              "version_minor": 0,
              "model_id": "b44bc46e4efd449c972f3a3101154510"
            }
          },
          "metadata": {}
        },
        {
          "output_type": "stream",
          "name": "stderr",
          "text": [
            "Some weights of ViTForImageClassification were not initialized from the model checkpoint at google/vit-base-patch16-224-in21k and are newly initialized: ['classifier.weight', 'classifier.bias']\n",
            "You should probably TRAIN this model on a down-stream task to be able to use it for predictions and inference.\n"
          ]
        },
        {
          "output_type": "stream",
          "name": "stdout",
          "text": [
            "Linear(in_features=768, out_features=2, bias=True)\n"
          ]
        }
      ]
    },
    {
      "cell_type": "code",
      "source": [
        "batch = next(iter(train_dataloader))\n",
        "print(f\"image shape :\", batch[\"pixel_values\"].shape)\n",
        "print(\"patch embeddings shape :\", model.vit.embeddings.patch_embeddings(batch[\"pixel_values\"]).shape)\n",
        "print(\"[CLS] + patch embeddings shape :\", model.vit.embeddings(batch[\"pixel_values\"]).shape)"
      ],
      "metadata": {
        "id": "eWZn7SQ4Pomd",
        "colab": {
          "base_uri": "https://localhost:8080/"
        },
        "outputId": "dfc98825-05ed-4064-8245-2835347d884c"
      },
      "execution_count": null,
      "outputs": [
        {
          "output_type": "stream",
          "name": "stdout",
          "text": [
            "image shape : torch.Size([64, 3, 224, 224])\n",
            "patch embeddings shape : torch.Size([64, 196, 768])\n",
            "[CLS] + patch embeddings shape : torch.Size([64, 197, 768])\n"
          ]
        }
      ]
    },
    {
      "cell_type": "markdown",
      "source": [
        "### F1을 Accuracy로 수정...했는데 뭔가 좀 잘못된듯"
      ],
      "metadata": {
        "id": "bW11xeBuqp16"
      }
    },
    {
      "cell_type": "code",
      "source": [
        "from transformers import TrainingArguments, Trainer\n",
        "\n",
        "metric_name = \"accuracy\"\n",
        "\n",
        "args = TrainingArguments(\n",
        "    output_dir = \"./models/FaceMask\",\n",
        "    save_strategy = \"epoch\",\n",
        "    evaluation_strategy = \"epoch\",\n",
        "    learning_rate = 1e-5,\n",
        "    per_device_train_batch_size = 16,\n",
        "    per_device_eval_batch_size = 16,\n",
        "    num_train_epochs = 3,\n",
        "    weight_decay = 1e-3,\n",
        "    load_best_model_at_end = True,\n",
        "    metric_for_best_model = metric_name,\n",
        "    logging_dir = \"logs\",\n",
        "    logging_steps = 125,\n",
        "    remove_unused_columns = False,\n",
        "    seed = 1\n",
        ")"
      ],
      "metadata": {
        "id": "aNdpv9SDPtmh"
      },
      "execution_count": null,
      "outputs": []
    },
    {
      "cell_type": "markdown",
      "source": [
        "### 아래는 F1 Score를 위한 코드"
      ],
      "metadata": {
        "id": "8qFviBDsmh_b"
      }
    },
    {
      "cell_type": "code",
      "source": [
        "!pip install evaluate"
      ],
      "metadata": {
        "id": "NKulNnFlP6Oo"
      },
      "execution_count": null,
      "outputs": []
    },
    {
      "cell_type": "code",
      "source": [
        "import evaluate\n",
        "import numpy as np\n",
        "\n",
        "def compute_metrics(eval_pred):\n",
        "  metric = evaluate.load(\"f1\")\n",
        "  predictions, labels = eval_pred\n",
        "  predictions = np.argmax(predictions, axis=1)\n",
        "  macro_f1 = metric.compute(\n",
        "      predictions=predictions, references=labels, average=\"macro\"\n",
        "  )\n",
        "  return macro_f1"
      ],
      "metadata": {
        "id": "GZIepO_yP6pD"
      },
      "execution_count": null,
      "outputs": []
    },
    {
      "cell_type": "markdown",
      "source": [
        "## Accuracy [참고 링크](https://www.kaggle.com/code/miladfa7/vision-transformer-99-5-accuracy-embedding)"
      ],
      "metadata": {
        "id": "Wqo5A5m9lMnt"
      }
    },
    {
      "cell_type": "code",
      "source": [
        "from sklearn.metrics import accuracy_score\n",
        "import numpy as np\n",
        "\n",
        "def compute_metrics(eval_pred):\n",
        "    predictions, labels = eval_pred\n",
        "    predictions = np.argmax(predictions, axis=1)\n",
        "    return dict(accuracy=accuracy_score(predictions, labels))"
      ],
      "metadata": {
        "id": "yvqxtyKWlLzx"
      },
      "execution_count": null,
      "outputs": []
    },
    {
      "cell_type": "code",
      "source": [
        "def model_init(classes, class_to_idx):\n",
        "  model = ViTForImageClassification.from_pretrained(\n",
        "    pretrained_model_name_or_path = \"google/vit-base-patch16-224-in21k\",\n",
        "    num_labels = len(classes),\n",
        "    id2label = {idx : label for label, idx in class_to_idx.items()},\n",
        "    label2id = class_to_idx,\n",
        "    ignore_mismatched_sizes = True\n",
        "  )\n",
        "  return model"
      ],
      "metadata": {
        "id": "siTv84YoP9Fp"
      },
      "execution_count": null,
      "outputs": []
    },
    {
      "cell_type": "code",
      "source": [
        "device = \"cuda\" if torch.cuda.is_available() else \"cpu\"\n"
      ],
      "metadata": {
        "id": "rgtLh6bRuK7O"
      },
      "execution_count": null,
      "outputs": []
    },
    {
      "cell_type": "code",
      "source": [
        "trainer = Trainer(\n",
        "    model_init = lambda x : model_init(classes, class_to_idx),\n",
        "    args = args,\n",
        "    train_dataset = subset_train_dataset,\n",
        "    eval_dataset = subset_test_dataset,\n",
        "    data_collator = lambda x: collator(x, transform),\n",
        "    compute_metrics = compute_metrics,\n",
        "    tokenizer = image_processor,\n",
        ")\n",
        "\n",
        "model.to(device)\n",
        "\n",
        "trainer.train()"
      ],
      "metadata": {
        "id": "34rTqNnpP_tc",
        "colab": {
          "base_uri": "https://localhost:8080/",
          "height": 279
        },
        "outputId": "5b207193-0950-438c-9ab2-b076f38680a7"
      },
      "execution_count": null,
      "outputs": [
        {
          "output_type": "stream",
          "name": "stderr",
          "text": [
            "Some weights of ViTForImageClassification were not initialized from the model checkpoint at google/vit-base-patch16-224-in21k and are newly initialized: ['classifier.weight', 'classifier.bias']\n",
            "You should probably TRAIN this model on a down-stream task to be able to use it for predictions and inference.\n",
            "Some weights of ViTForImageClassification were not initialized from the model checkpoint at google/vit-base-patch16-224-in21k and are newly initialized: ['classifier.weight', 'classifier.bias']\n",
            "You should probably TRAIN this model on a down-stream task to be able to use it for predictions and inference.\n"
          ]
        },
        {
          "output_type": "display_data",
          "data": {
            "text/plain": [
              "<IPython.core.display.HTML object>"
            ],
            "text/html": [
              "\n",
              "    <div>\n",
              "      \n",
              "      <progress value='375' max='375' style='width:300px; height:20px; vertical-align: middle;'></progress>\n",
              "      [375/375 10:00, Epoch 3/3]\n",
              "    </div>\n",
              "    <table border=\"1\" class=\"dataframe\">\n",
              "  <thead>\n",
              " <tr style=\"text-align: left;\">\n",
              "      <th>Epoch</th>\n",
              "      <th>Training Loss</th>\n",
              "      <th>Validation Loss</th>\n",
              "      <th>Accuracy</th>\n",
              "    </tr>\n",
              "  </thead>\n",
              "  <tbody>\n",
              "    <tr>\n",
              "      <td>1</td>\n",
              "      <td>0.273000</td>\n",
              "      <td>0.074499</td>\n",
              "      <td>1.000000</td>\n",
              "    </tr>\n",
              "    <tr>\n",
              "      <td>2</td>\n",
              "      <td>0.044400</td>\n",
              "      <td>0.034291</td>\n",
              "      <td>1.000000</td>\n",
              "    </tr>\n",
              "    <tr>\n",
              "      <td>3</td>\n",
              "      <td>0.028900</td>\n",
              "      <td>0.029116</td>\n",
              "      <td>1.000000</td>\n",
              "    </tr>\n",
              "  </tbody>\n",
              "</table><p>"
            ]
          },
          "metadata": {}
        },
        {
          "output_type": "execute_result",
          "data": {
            "text/plain": [
              "TrainOutput(global_step=375, training_loss=0.11542505009969076, metrics={'train_runtime': 607.7578, 'train_samples_per_second': 9.872, 'train_steps_per_second': 0.617, 'total_flos': 4.64951937687552e+17, 'train_loss': 0.11542505009969076, 'epoch': 3.0})"
            ]
          },
          "metadata": {},
          "execution_count": 30
        }
      ]
    },
    {
      "cell_type": "markdown",
      "source": [
        "### F1 Score"
      ],
      "metadata": {
        "id": "CuNhe9mcmmvp"
      }
    },
    {
      "cell_type": "markdown",
      "source": [
        "정밀도(Precision)와 재현율(Recall)의 조화 평균\n",
        " 이진 분류 문제에서 모델의 성능을 측정하는데 사용되는 하나의 지표\n",
        "\n",
        "정밀도 (Precision): 양성으로 예측한 샘플 중에서 실제로 양성인 샘플의 비율을 나타냅니다. 즉, \"모델이 양성으로 예측한 것 중에서 얼마나 실제로 맞았는가\"를 측정합니다.\n",
        "\n",
        "TP / TP+FP\n",
        "\n",
        ".\n",
        "\n",
        "\n",
        "재현율 (Recall): 실제로 양성인 샘플 중에서 모델이 양성으로 예측한 샘플의 비율을 나타냅니다. 즉, \"실제로 양성인 것 중에서 얼마나 많이 찾아냈는가\"를 측정합니다.\n",
        "\n",
        "TP / TP+FN\n",
        "\n",
        ".\n",
        "\n",
        "F1 Score: 정밀도와 재현율의 조화 평균으로 계산됩니다. 이는 둘 중 하나가 낮을 때 더 높은 값을 가지며, 불균형한 클래스 분포에서 유용합니다.\n",
        "\n",
        "F1 Score = 2 x (Precision x Recall) / (P + R)\n",
        "\n",
        "\n",
        "F1 Score는 0부터 1까지의 값으로, 1에 가까울수록 모델의 성능이 좋다고 평가됩니다. 이는 주로 양성 클래스와 음성 클래스의 샘플 수가 크게 차이나는 경우에 사용되며, 정확도만 사용하면 모델이 데이터의 불균형으로 인해 편향되어 평가될 수 있기 때문입니다.\n"
      ],
      "metadata": {
        "id": "4sPAJgE6okEY"
      }
    }
  ]
}